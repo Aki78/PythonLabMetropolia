{
 "cells": [
  {
   "cell_type": "code",
   "execution_count": 2,
   "id": "2570a8ae-3f37-4b02-969d-d258e1020aab",
   "metadata": {},
   "outputs": [],
   "source": [
    "name = \"Write your name here\"\n",
    "date_returned = \"Write the date returned here\""
   ]
  },
  {
   "cell_type": "markdown",
   "id": "aac8fbeb-700b-46a9-ba3f-7c3b82925e0b",
   "metadata": {},
   "source": [
    "# Lab 4\n",
    "**Exponential and logarithmic functions**<br>\n",
    "Software 2<br>\n",
    "Information and Communication Technology<br>\n",
    "Metropolia University of Applied Sciences"
   ]
  },
  {
   "cell_type": "markdown",
   "id": "89891d61-43f7-4337-aafd-f040f486110b",
   "metadata": {},
   "source": [
    "## Setup\n",
    "\n",
    "Import necessary libraries."
   ]
  },
  {
   "cell_type": "code",
   "execution_count": 1,
   "id": "c0022d60-ffce-4082-8e3a-498c602ed32c",
   "metadata": {},
   "outputs": [
    {
     "name": "stderr",
     "output_type": "stream",
     "text": [
      "Matplotlib is building the font cache; this may take a moment.\n"
     ]
    }
   ],
   "source": [
    "import numpy as np\n",
    "import matplotlib.pyplot as plt"
   ]
  },
  {
   "cell_type": "markdown",
   "id": "fd9b3ead-90cb-417c-8dbd-aa3a0e7d5de0",
   "metadata": {},
   "source": [
    "## Problem 1\n",
    "\n",
    "Sketch the graphs $f(x) = 2^x$ and $g(x) = (1/2)^x$ in the same graph (See Software 1, Mathematics Lectures, page 26). \n",
    "\n",
    "Use x-values ranging from -2 to +2 and having 200 linearly spaced samples. Annotate the graphics (e.g. give the xlabel, ylabel, labels for the line-plots, grid-lines, and legend).\n",
    "\n",
    "At which point do the graphs intersect? Give the intersection point for variables $x_0$ and $y_0$."
   ]
  },
  {
   "cell_type": "code",
   "execution_count": 29,
   "id": "04e808c8-fa17-4309-85ce-1b50ad26175b",
   "metadata": {},
   "outputs": [
    {
     "name": "stdout",
     "output_type": "stream",
     "text": [
      "1.000024264789118\n"
     ]
    }
   ],
   "source": [
    "x = np.linspace(-2,2, 200)\n",
    "f = np.power(2,x)\n",
    "g = np.power(0.5,x)\n",
    "tol = 1.5e-2\n",
    "x0 = None\n",
    "y0 = np.mean(g[(np.abs(f - g) < tol)] )\n",
    "print(y0)"
   ]
  },
  {
   "cell_type": "markdown",
   "id": "27e37997-fe8d-43f6-9652-68c421a55f42",
   "metadata": {},
   "source": [
    "## Problem 2.a\n",
    "\n",
    "The voltage of a capacitor decays exponentially (See Software 1, Mathematics lectures, page 27):\n",
    "\n",
    "$ y(t) = \\begin{cases} V_0,\\; t<0 \\\\ V_0 \\cdot e^{-t/RC}, \\; t \\geq 0 \\end{cases}$\n",
    "\n",
    "Sketch the graph of the voltage of a capacitor in time-range -2.0 ms to 5.0 ms using timestep of 0.01 ms. Use the values:\n",
    "- $V_0 = 5.0$\n",
    "- $R = 1.0 \\times 10^3$\n",
    "- $C = 1.0 \\times 10^{-6}$\n",
    "\n",
    "Annotate the graph (xlabel, ylabel, title, and grid-lines). Note: 1.0 ms = 0.001 s."
   ]
  },
  {
   "cell_type": "code",
   "execution_count": 35,
   "id": "3c612794-2571-4b0a-8a4c-d1ff9cbad3b9",
   "metadata": {},
   "outputs": [
    {
     "data": {
      "image/png": "[encoded data removed]",
      "text/plain": [
       "<Figure size 432x288 with 1 Axes>"
      ]
     },
     "metadata": {
      "needs_background": "light"
     },
     "output_type": "display_data"
    }
   ],
   "source": [
    "V0 = None\n",
    "R = None\n",
    "C = None\n",
    "t = np.arange()\n",
    "y = None\n"
   ]
  },
  {
   "cell_type": "markdown",
   "id": "0395d07b-8a5e-45cb-8a4d-d37acaffe8c6",
   "metadata": {},
   "source": [
    "## Problem 2.b\n",
    "\n",
    "See the previous problem. When the voltage is dropped down to 2.0 V? Give the answer within 1 ms accuracy."
   ]
  },
  {
   "cell_type": "code",
   "execution_count": null,
   "id": "69ddfcf7-29c1-4f70-b1b7-513b5d5e9167",
   "metadata": {},
   "outputs": [],
   "source": [
    "t0 = None"
   ]
  },
  {
   "cell_type": "markdown",
   "id": "2cc5b035-3f6a-449e-9a9f-02a7b14dbf4b",
   "metadata": {},
   "source": [
    "## Problem 3.a\n",
    "\n",
    "The temperature of a hot cup of coffee decreases according to the formula (See Software 1, Mathematics Lectures, page 27):\n",
    "\n",
    "$ T(t) = T_{env} + (T_0 - T_{env})\\cdot e^{-kt} $\n",
    "\n",
    "where,\n",
    "- $T(t)$ is the temperature of the cup of coffee\n",
    "- $T_{env}$ is the temperature of the environment\n",
    "- $T_0$ is the initial temperature of the cup of coffee\n",
    "- $k$ is the time constant\n",
    "- $t$ is time\n",
    "\n",
    "Sketch a graph of $T(t)$, when $T_{env} = 25$, $T_0 = 90$, and $k = 0.02$. Use time range from 0.0 s to 180.0 s having 200 linearly spaced values.\n",
    "\n",
    "Annotate the graph (grid-lines, xlabel, ylabel, title)."
   ]
  },
  {
   "cell_type": "code",
   "execution_count": 32,
   "id": "ef4c3e82-4a5b-4d9e-bfcb-424d7c880da7",
   "metadata": {},
   "outputs": [
    {
     "data": {
      "image/png": "[encoded data removed]",
      "text/plain": [
       "<Figure size 432x288 with 1 Axes>"
      ]
     },
     "metadata": {
      "needs_background": "light"
     },
     "output_type": "display_data"
    }
   ],
   "source": [
    "T_env = None\n",
    "T_0 = None\n",
    "k = None\n",
    "t = np.linspace()\n",
    "T = None\n"
   ]
  },
  {
   "cell_type": "markdown",
   "id": "55abc552-323a-4aff-89c5-d7a44335926d",
   "metadata": {},
   "source": [
    "## Problem 3.b\n",
    "\n",
    "See the previous problem. When has the temperature fall below 50? Give the answer within 1 s accuracy."
   ]
  },
  {
   "cell_type": "code",
   "execution_count": 48,
   "id": "d95e531b-473e-4414-8975-1f28d198bfca",
   "metadata": {},
   "outputs": [],
   "source": [
    "t0 = None"
   ]
  },
  {
   "cell_type": "markdown",
   "id": "2f99bcfc-4687-41b9-89f0-ab14769a83a6",
   "metadata": {},
   "source": [
    "## Problem 4\n",
    "\n",
    "Sketch graphs of $f_1(x) = ln(x^2)$ and $f_2(x) = ln(x^{0.5})$ in the same graph. Use range of values for x from 0.1 to 4 with stepsize of 0.01.\n",
    "\n",
    "Annotate the graph (grid-lines, xlabel, ylabel, labels for plot-lines, legend).\n",
    "\n",
    "Where do the graphs intersect? Give the intesection point for variables x0 and y0."
   ]
  },
  {
   "cell_type": "code",
   "execution_count": 56,
   "id": "8fd51e98-f2bb-449f-a4b4-548c1f24aea8",
   "metadata": {},
   "outputs": [
    {
     "data": {
      "image/png": "[encoded data removed]",
      "text/plain": [
       "<Figure size 432x288 with 1 Axes>"
      ]
     },
     "metadata": {
      "needs_background": "light"
     },
     "output_type": "display_data"
    }
   ],
   "source": [
    "x = np.arange()\n",
    "f1 = None\n",
    "f2 = None\n",
    "\n",
    "x0 = None\n",
    "y0 = None"
   ]
  },
  {
   "cell_type": "markdown",
   "id": "cb00eafa-4eef-48da-b969-211775689f35",
   "metadata": {},
   "source": [
    "## Problem 5\n",
    "\n",
    "Sketch graphs of $f_1(x) = ln(x^2)$ and $f_2(x) = ln(x^{0.5})$ in the same graph, but now using log-lin-scale (plt.semilogx). Use the same range of values for x.\n",
    "\n",
    "What do you observe?"
   ]
  },
  {
   "cell_type": "code",
   "execution_count": null,
   "id": "5e5349c2-80cc-4397-85fd-939dd7e34215",
   "metadata": {},
   "outputs": [],
   "source": [
    "x = np.arange()\n",
    "f1 = None\n",
    "f2 = None\n",
    "plt.semilogx(x, f1)\n",
    "plt.semilogx(x, f2)\n"
   ]
  },
  {
   "cell_type": "markdown",
   "id": "27eee5d1-b618-45c5-a6ac-5b7f66be5589",
   "metadata": {},
   "source": [
    "Observations:"
   ]
  },
  {
   "cell_type": "markdown",
   "id": "2546a5d2-659d-41d2-919f-6d49849912cc",
   "metadata": {},
   "source": []
  }
 ],
 "metadata": {
  "kernelspec": {
   "display_name": "Python 3.8.10 64-bit",
   "language": "python",
   "name": "python3"
  },
  "language_info": {
   "codemirror_mode": {
    "name": "ipython",
    "version": 3
   },
   "file_extension": ".py",
   "mimetype": "text/x-python",
   "name": "python",
   "nbconvert_exporter": "python",
   "pygments_lexer": "ipython3",
   "version": "3.8.10"
  },
  "vscode": {
   "interpreter": {
    "hash": "916dbcbb3f70747c44a77c7bcd40155683ae19c65e1c03b4aa3499c5328201f1"
   }
  }
 },
 "nbformat": 4,
 "nbformat_minor": 5
}
